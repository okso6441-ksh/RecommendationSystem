{
 "cells": [
  {
   "cell_type": "markdown",
   "metadata": {},
   "source": [
    "https://ichi.pro/ko/chucheon-siseutem-eul-pyeong-gahaneun-bangbeob-ui-jeonche-moglog-183670080086494\n",
    "\n",
    "분류 카테고리 있음"
   ]
  },
  {
   "cell_type": "markdown",
   "metadata": {},
   "source": [
    "https://techblog-history-younghunjo1.tistory.com/133  \n",
    "\n",
    "1.  Long tail plot\n",
    "\n",
    "2. MAP@K\n",
    "\n",
    "3. Coverage\n",
    "\n",
    "4. Personalization\n",
    "\n",
    "5. Intra-list Similarity"
   ]
  },
  {
   "cell_type": "markdown",
   "metadata": {},
   "source": [
    "part1> Ch 03. 추천시스템 평가 - 03. 추천시스템 평가하기 - NDCG"
   ]
  },
  {
   "cell_type": "markdown",
   "metadata": {},
   "source": [
    "### NDCG(Normalized Discounted Cumulative Gain)\n",
    "\n"
   ]
  },
  {
   "cell_type": "code",
   "execution_count": null,
   "metadata": {},
   "outputs": [],
   "source": []
  },
  {
   "cell_type": "markdown",
   "metadata": {},
   "source": [
    "### Precision @ K(Top-K)"
   ]
  },
  {
   "cell_type": "markdown",
   "metadata": {},
   "source": [
    "https://velog.io/@redgem92/%EC%B6%94%EC%B2%9C%ED%99%94-%EC%8B%9C%EC%8A%A4%ED%85%9C-04.-%EC%B6%94%EC%B2%9C-%EC%8B%9C%EC%8A%A4%ED%85%9C%EC%9D%98-%ED%8F%89%EA%B0%80-%EC%A7%80%ED%91%9C\n",
    "\n",
    "Precision/Recall@K\n",
    "\n",
    "\n",
    "https://oper0815.github.io/recommendation/%ED%8F%89%EA%B0%80%EC%A7%80%ED%91%9C/\n",
    "\n",
    "MRR(Mean Reciprocal Rank) \n",
    "\n",
    "https://jyoondev.tistory.com/130\n",
    "그냥 Pre랑 @k 차이점"
   ]
  },
  {
   "cell_type": "markdown",
   "metadata": {},
   "source": [
    "### MAP(Mean Average Precision)\n",
    "* mean(Precision@K )"
   ]
  },
  {
   "cell_type": "code",
   "execution_count": null,
   "metadata": {},
   "outputs": [],
   "source": []
  },
  {
   "cell_type": "markdown",
   "metadata": {},
   "source": [
    "part2> Ch.01-컨텐츠기반-03-비슷한컨텐츠를찾는방법"
   ]
  },
  {
   "cell_type": "markdown",
   "metadata": {},
   "source": [
    "### 유클리드 거리\n",
    "### 코사인 유사도\n",
    "### 맨하탄 거리\n",
    "### 피어슨 유사도\n",
    "### 민코우스키 거리\n",
    "### 자카드 유사도"
   ]
  },
  {
   "cell_type": "markdown",
   "metadata": {},
   "source": [
    "part2> Ch.01-컨텐츠기반-06-TF-IDF"
   ]
  },
  {
   "cell_type": "markdown",
   "metadata": {},
   "source": [
    "### TF-IDF"
   ]
  },
  {
   "cell_type": "markdown",
   "metadata": {},
   "source": [
    "part2> Ch.02-이웃기반협업필터링-03-또다른유사도이해하기"
   ]
  },
  {
   "cell_type": "markdown",
   "metadata": {},
   "source": [
    "### 자카드 유사도\n",
    "### 피어슨 유사도"
   ]
  },
  {
   "cell_type": "markdown",
   "metadata": {},
   "source": [
    "part2> Ch.03-모델기반 협업필터링-02-Rule-based 협업필터링 feat. Association Rule"
   ]
  },
  {
   "cell_type": "markdown",
   "metadata": {},
   "source": [
    "### 지신향"
   ]
  },
  {
   "cell_type": "markdown",
   "metadata": {},
   "source": [
    "# MF 코드 확인 필요 "
   ]
  },
  {
   "cell_type": "code",
   "execution_count": null,
   "metadata": {},
   "outputs": [],
   "source": []
  }
 ],
 "metadata": {
  "kernelspec": {
   "display_name": "Python 3",
   "language": "python",
   "name": "python3"
  },
  "language_info": {
   "codemirror_mode": {
    "name": "ipython",
    "version": 3
   },
   "file_extension": ".py",
   "mimetype": "text/x-python",
   "name": "python",
   "nbconvert_exporter": "python",
   "pygments_lexer": "ipython3",
   "version": "3.7.6"
  }
 },
 "nbformat": 4,
 "nbformat_minor": 4
}
